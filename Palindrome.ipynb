{
 "cells": [
  {
   "cell_type": "code",
   "execution_count": null,
   "metadata": {},
   "outputs": [],
   "source": []
  },
  {
   "cell_type": "code",
   "execution_count": null,
   "metadata": {
    "scrolled": false
   },
   "outputs": [],
   "source": [
    "# Welcome User\n",
    "name = input('Hi! What is your name?\\n')\n",
    "print('Hi {}! Welcome to the Palindrome game.'.format(name))"
   ]
  },
  {
   "cell_type": "code",
   "execution_count": null,
   "metadata": {},
   "outputs": [],
   "source": [
    "# Definition of PlayGame function\n",
    "def play_game():\n",
    "    word = input('Please, type the word you want to play with\\n')\n",
    "    game_word = []\n",
    "\n",
    "    for letter in word:\n",
    "        game_word.append(letter.lower())\n",
    "\n",
    "    N = len(game_word)\n",
    "\n",
    "    game_wordRev = ['']*N\n",
    "\n",
    "    for ii in range(N): \n",
    "        game_wordRev[ii] = game_word[N-1-ii]\n",
    "\n",
    "    if game_word == game_wordRev:\n",
    "        print('Congratulations! The word {} is a Palindrome'.format(word))\n",
    "    else:\n",
    "        print('The word {} is not a Palindrome'.format(word))\n",
    "    return"
   ]
  },
  {
   "cell_type": "code",
   "execution_count": null,
   "metadata": {},
   "outputs": [],
   "source": [
    "# Call PlayGame function\n",
    "play_game()"
   ]
  },
  {
   "cell_type": "code",
   "execution_count": null,
   "metadata": {},
   "outputs": [],
   "source": [
    "# Ask if wants to play again?\n",
    "playAgain = False\n",
    "\n",
    "while playAgain == False:\n",
    "    ask=input(\"Do you want to play again? (Y/N) \\n\")\n",
    "    if ask != \"Y\" and ask != \"y\" and ask != \"N\" and ask != \"n\":\n",
    "        print(\"Sorry, didn't get that. Please respond Y or N.\\n\")\n",
    "    elif ask == \"Y\" or ask == \"y\":\n",
    "        play_game()\n",
    "    else:\n",
    "        print(\"Thank you for playing, \",name)\n",
    "        break\n",
    "\n",
    "exit()"
   ]
  }
 ],
 "metadata": {
  "kernelspec": {
   "display_name": "Python 3",
   "language": "python",
   "name": "python3"
  },
  "language_info": {
   "codemirror_mode": {
    "name": "ipython",
    "version": 3
   },
   "file_extension": ".py",
   "mimetype": "text/x-python",
   "name": "python",
   "nbconvert_exporter": "python",
   "pygments_lexer": "ipython3",
   "version": "3.7.3"
  }
 },
 "nbformat": 4,
 "nbformat_minor": 2
}
