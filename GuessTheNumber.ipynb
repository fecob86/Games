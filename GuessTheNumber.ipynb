{
 "cells": [
  {
   "cell_type": "code",
   "execution_count": null,
   "metadata": {},
   "outputs": [],
   "source": [
    "# Import libraries\n",
    "import numpy as np\n",
    "import math"
   ]
  },
  {
   "cell_type": "code",
   "execution_count": null,
   "metadata": {},
   "outputs": [],
   "source": [
    "# Welcoming user\n",
    "name = input(\"What is your name? \\n\")\n",
    "print(\"Hi, \",name,\". Welcome to the Guess The Number game!\")"
   ]
  },
  {
   "cell_type": "code",
   "execution_count": null,
   "metadata": {},
   "outputs": [],
   "source": [
    "def main():\n",
    "# Choosing range limits and set target\n",
    "    wrongMin = True\n",
    "\n",
    "    while wrongMin == True:\n",
    "        minRangeInput = input(\"Choose the lower limit for the range you want to play with.\\n\")\n",
    "        try:\n",
    "            minRange = int(minRangeInput)\n",
    "        except ValueError:\n",
    "            print(\"Wrong input. Please choose an integer number.\\n\")\n",
    "        else:\n",
    "            minRange = int(minRangeInput)\n",
    "            wrongMin = False\n",
    "\n",
    "    wrongMax = True\n",
    "\n",
    "    while wrongMax == True:\n",
    "        maxRangeInput = input(\"Choose the upper limit for the range you want to play with.\\n\")\n",
    "        try:\n",
    "            maxRange = int(maxRangeInput)\n",
    "        except ValueError:\n",
    "            print(\"Wrong input. Please choose an integer number.\")\n",
    "        else:\n",
    "            maxRange = int(maxRangeInput)\n",
    "            if maxRange <= minRange:\n",
    "                print(\"Wrong input. Please choose a number greater than \",minRange,\".\")\n",
    "            else:\n",
    "                wrongMax = False\n",
    "\n",
    "    setRange = [minRange,maxRange]\n",
    "    print(\"Great! Your chosen range is \",setRange,\" (Range limits inclusive)\")\n",
    "\n",
    "    target = np.random.randint(minRange,maxRange + 1)\n",
    "\n",
    "    # Picking and Assessing the Guess\n",
    "\n",
    "    maxGuesses = 5\n",
    "    guesses = []\n",
    "\n",
    "    for ii in range(maxGuesses):\n",
    "        wrongGuess = True\n",
    "\n",
    "        while wrongGuess == True:\n",
    "            guessInput = input(\"Choose your guess. Pick a number between {} and {} (Range limits inclusive)\\n\".format(minRange,maxRange))\n",
    "            try:\n",
    "                guess = int(guessInput)\n",
    "            except ValueError:\n",
    "                print(\"Wrong input. Pick a number between \",minRange,\" and \",maxRange)\n",
    "            else:\n",
    "                guess = int(guessInput)\n",
    "                if guess < minRange or guess > maxRange:\n",
    "                    print(\"Your guess is outside the chosen range. Pick a number between \",minRange,\" and \",maxRange)\n",
    "                else:\n",
    "                    wrongGuess = False\n",
    "        \n",
    "        guesses.append(guess)\n",
    "        if guesses[ii] > target:\n",
    "            print(\"Your guess was too high.\\n\")\n",
    "        elif guesses[ii] < target:\n",
    "            print(\"Your guess was too low.\\n\")\n",
    "        else:\n",
    "            print(\"Nailed it! Your guess is correct.\\n\")\n",
    "            break\n",
    "\n",
    "    print(\"Your guesses were: \",guesses,)\n",
    "          \n",
    "    if target in guesses:\n",
    "          print(\"It took you \",len(guesses),\" attepts to win the game.\\n\")\n",
    "    else:\n",
    "          print(\"Sorry, but you didn't guess.\\n\")\n",
    "    return\n"
   ]
  },
  {
   "cell_type": "code",
   "execution_count": null,
   "metadata": {},
   "outputs": [],
   "source": [
    "main()"
   ]
  },
  {
   "cell_type": "code",
   "execution_count": null,
   "metadata": {},
   "outputs": [],
   "source": [
    "# Ask if wants to play again?\n",
    "playAgain = False\n",
    "\n",
    "while playAgain == False:\n",
    "    ask=input(\"Do you want to play again? (Y/N) \\n\")\n",
    "    if ask != \"Y\" and ask != \"y\" and ask != \"N\" and ask != \"n\":\n",
    "        print(\"Sorry, didn't get that. Please respond Y or N.\\n\")\n",
    "    elif ask == \"Y\" or ask == \"y\":\n",
    "        main()\n",
    "    else:\n",
    "        print(\"Thank you for playing, \",name)\n",
    "        break\n",
    "\n",
    "exit()"
   ]
  },
  {
   "cell_type": "code",
   "execution_count": null,
   "metadata": {},
   "outputs": [],
   "source": []
  }
 ],
 "metadata": {
  "kernelspec": {
   "display_name": "Python 3",
   "language": "python",
   "name": "python3"
  },
  "language_info": {
   "codemirror_mode": {
    "name": "ipython",
    "version": 3
   },
   "file_extension": ".py",
   "mimetype": "text/x-python",
   "name": "python",
   "nbconvert_exporter": "python",
   "pygments_lexer": "ipython3",
   "version": "3.7.3"
  }
 },
 "nbformat": 4,
 "nbformat_minor": 2
}
