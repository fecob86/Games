{
 "cells": [
  {
   "cell_type": "code",
   "execution_count": 1,
   "metadata": {},
   "outputs": [],
   "source": [
    "# Libraries import\n",
    "import math\n",
    "import numpy as np"
   ]
  },
  {
   "cell_type": "code",
   "execution_count": 2,
   "metadata": {},
   "outputs": [
    {
     "name": "stdout",
     "output_type": "stream",
     "text": [
      "What is your name? \n",
      "Salchi\n",
      "Hi,  Salchi . Welcome to the Roll the Dice game!\n"
     ]
    }
   ],
   "source": [
    "# Welcome User\n",
    "name = input(\"What is your name? \\n\")\n",
    "print(\"Hi, \",name,\". Welcome to the Roll the Dice game!\")"
   ]
  },
  {
   "cell_type": "code",
   "execution_count": 3,
   "metadata": {},
   "outputs": [],
   "source": [
    "# Definition of PlayGame function\n",
    "def playgame():\n",
    "    wrongAnswer=True\n",
    "    minRolls=1\n",
    "    maxRolls=5\n",
    "\n",
    "    while wrongAnswer == True:\n",
    "        q_Roll=input(\"How many times do you want to roll the dice? You can roll the dice up to {} times.\\n\".format(maxRolls))\n",
    "        try:\n",
    "            q_Roll=int(q_Roll)\n",
    "        except ValueError:\n",
    "            print(\"Wrong input. Please choose a number between {} and {} (both inclusive).\\n\".format(minRolls,maxRolls))\n",
    "        else:\n",
    "            q_Roll=int(q_Roll)\n",
    "            if (q_Roll > maxRolls) or (q_Roll < minRolls):\n",
    "                print(\"Wrong input. Please choose a number between 1 and 5 (both inclusive).\\n\")    \n",
    "            else:\n",
    "                print(\"Great! You chose to roll the dice \",q_Roll,\" times.\\n\")\n",
    "                wrongAnswer = False\n",
    "\n",
    "    results=[0]*q_Roll\n",
    "    total=0\n",
    "\n",
    "    for ii in range(q_Roll):\n",
    "        results[ii]=np.random.randint(q_Roll)+1\n",
    "        total+=results[ii]\n",
    "\n",
    "    print(\"Your results are \",results,\" and Your total score is \",total)\n",
    "    return"
   ]
  },
  {
   "cell_type": "code",
   "execution_count": 4,
   "metadata": {},
   "outputs": [
    {
     "name": "stdout",
     "output_type": "stream",
     "text": [
      "How many times do you want to roll the dice? You can roll the dice up to 5 times.\n",
      "5\n",
      "Great! You chose to roll the dice  5  times.\n",
      "\n",
      "Your results are  [4, 2, 4, 5, 5]  and Your total score is  20\n"
     ]
    }
   ],
   "source": [
    "# Call PlayGame function\n",
    "playgame()"
   ]
  },
  {
   "cell_type": "code",
   "execution_count": null,
   "metadata": {},
   "outputs": [
    {
     "name": "stdout",
     "output_type": "stream",
     "text": [
      "Do you want to play again? (Y/N) \n",
      "y\n",
      "How many times do you want to roll the dice? You can roll the dice up to 5 times.\n",
      "5\n",
      "Great! You chose to roll the dice  5  times.\n",
      "\n",
      "Your results are  [3, 1, 4, 1, 3]  and Your total score is  12\n"
     ]
    }
   ],
   "source": [
    "# Ask if wants to play again?\n",
    "playAgain = False\n",
    "\n",
    "while playAgain == False:\n",
    "    ask=input(\"Do you want to play again? (Y/N) \\n\")\n",
    "    if ask != \"Y\" and ask != \"y\" and ask != \"N\" and ask != \"n\":\n",
    "        print(\"Sorry, didn't get that. Please respond Y or N.\\n\")\n",
    "    elif ask == \"Y\" or ask == \"y\":\n",
    "        playgame()\n",
    "    else:\n",
    "        print(\"Thank you for playing, \",name)\n",
    "        break\n",
    "\n",
    "exit()\n"
   ]
  },
  {
   "cell_type": "code",
   "execution_count": null,
   "metadata": {},
   "outputs": [],
   "source": []
  }
 ],
 "metadata": {
  "kernelspec": {
   "display_name": "Python 3",
   "language": "python",
   "name": "python3"
  },
  "language_info": {
   "codemirror_mode": {
    "name": "ipython",
    "version": 3
   },
   "file_extension": ".py",
   "mimetype": "text/x-python",
   "name": "python",
   "nbconvert_exporter": "python",
   "pygments_lexer": "ipython3",
   "version": "3.7.3"
  }
 },
 "nbformat": 4,
 "nbformat_minor": 2
}
